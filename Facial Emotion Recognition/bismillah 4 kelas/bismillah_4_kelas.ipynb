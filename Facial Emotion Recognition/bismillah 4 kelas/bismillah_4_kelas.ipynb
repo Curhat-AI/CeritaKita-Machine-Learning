{
  "nbformat": 4,
  "nbformat_minor": 0,
  "metadata": {
    "colab": {
      "provenance": []
    },
    "kernelspec": {
      "name": "python3",
      "display_name": "Python 3"
    },
    "language_info": {
      "name": "python"
    },
    "widgets": {
      "application/vnd.jupyter.widget-state+json": {
        "0247fb7ff58b4ddc8d88f0f10220b8ab": {
          "model_module": "@jupyter-widgets/controls",
          "model_name": "FileUploadModel",
          "model_module_version": "1.5.0",
          "state": {
            "_counter": 4,
            "_dom_classes": [],
            "_model_module": "@jupyter-widgets/controls",
            "_model_module_version": "1.5.0",
            "_model_name": "FileUploadModel",
            "_view_count": null,
            "_view_module": "@jupyter-widgets/controls",
            "_view_module_version": "1.5.0",
            "_view_name": "FileUploadView",
            "accept": ".png, .jpg, .jpeg",
            "button_style": "",
            "data": [
              null
            ],
            "description": "Upload",
            "description_tooltip": null,
            "disabled": false,
            "error": "",
            "icon": "upload",
            "layout": "IPY_MODEL_9c09fdaf55f64fe28baa0df908720d19",
            "metadata": [
              {
                "name": "an5.jpg",
                "type": "image/jpeg",
                "size": 26748,
                "lastModified": 1717463850000
              }
            ],
            "multiple": false,
            "style": "IPY_MODEL_5c5d810d282444eb80c84054ef97ae2b"
          }
        },
        "9c09fdaf55f64fe28baa0df908720d19": {
          "model_module": "@jupyter-widgets/base",
          "model_name": "LayoutModel",
          "model_module_version": "1.2.0",
          "state": {
            "_model_module": "@jupyter-widgets/base",
            "_model_module_version": "1.2.0",
            "_model_name": "LayoutModel",
            "_view_count": null,
            "_view_module": "@jupyter-widgets/base",
            "_view_module_version": "1.2.0",
            "_view_name": "LayoutView",
            "align_content": null,
            "align_items": null,
            "align_self": null,
            "border": null,
            "bottom": null,
            "display": null,
            "flex": null,
            "flex_flow": null,
            "grid_area": null,
            "grid_auto_columns": null,
            "grid_auto_flow": null,
            "grid_auto_rows": null,
            "grid_column": null,
            "grid_gap": null,
            "grid_row": null,
            "grid_template_areas": null,
            "grid_template_columns": null,
            "grid_template_rows": null,
            "height": null,
            "justify_content": null,
            "justify_items": null,
            "left": null,
            "margin": null,
            "max_height": null,
            "max_width": null,
            "min_height": null,
            "min_width": null,
            "object_fit": null,
            "object_position": null,
            "order": null,
            "overflow": null,
            "overflow_x": null,
            "overflow_y": null,
            "padding": null,
            "right": null,
            "top": null,
            "visibility": null,
            "width": null
          }
        },
        "5c5d810d282444eb80c84054ef97ae2b": {
          "model_module": "@jupyter-widgets/controls",
          "model_name": "ButtonStyleModel",
          "model_module_version": "1.5.0",
          "state": {
            "_model_module": "@jupyter-widgets/controls",
            "_model_module_version": "1.5.0",
            "_model_name": "ButtonStyleModel",
            "_view_count": null,
            "_view_module": "@jupyter-widgets/base",
            "_view_module_version": "1.2.0",
            "_view_name": "StyleView",
            "button_color": null,
            "font_weight": ""
          }
        },
        "bc567f26398b4b309a40bbd1313d4691": {
          "model_module": "@jupyter-widgets/controls",
          "model_name": "FileUploadModel",
          "model_module_version": "1.5.0",
          "state": {
            "_counter": 2,
            "_dom_classes": [],
            "_model_module": "@jupyter-widgets/controls",
            "_model_module_version": "1.5.0",
            "_model_name": "FileUploadModel",
            "_view_count": null,
            "_view_module": "@jupyter-widgets/controls",
            "_view_module_version": "1.5.0",
            "_view_name": "FileUploadView",
            "accept": ".png, .jpg, .jpeg",
            "button_style": "",
            "data": [
              null
            ],
            "description": "Upload",
            "description_tooltip": null,
            "disabled": false,
            "error": "",
            "icon": "upload",
            "layout": "IPY_MODEL_fba6a2108ca448a0b7f95837dc7a00ee",
            "metadata": [
              {
                "name": "sad10.jpeg",
                "type": "image/jpeg",
                "size": 28907,
                "lastModified": 1717460198000
              }
            ],
            "multiple": false,
            "style": "IPY_MODEL_d70b6d968994444bb1f2bbacdcfed312"
          }
        },
        "fba6a2108ca448a0b7f95837dc7a00ee": {
          "model_module": "@jupyter-widgets/base",
          "model_name": "LayoutModel",
          "model_module_version": "1.2.0",
          "state": {
            "_model_module": "@jupyter-widgets/base",
            "_model_module_version": "1.2.0",
            "_model_name": "LayoutModel",
            "_view_count": null,
            "_view_module": "@jupyter-widgets/base",
            "_view_module_version": "1.2.0",
            "_view_name": "LayoutView",
            "align_content": null,
            "align_items": null,
            "align_self": null,
            "border": null,
            "bottom": null,
            "display": null,
            "flex": null,
            "flex_flow": null,
            "grid_area": null,
            "grid_auto_columns": null,
            "grid_auto_flow": null,
            "grid_auto_rows": null,
            "grid_column": null,
            "grid_gap": null,
            "grid_row": null,
            "grid_template_areas": null,
            "grid_template_columns": null,
            "grid_template_rows": null,
            "height": null,
            "justify_content": null,
            "justify_items": null,
            "left": null,
            "margin": null,
            "max_height": null,
            "max_width": null,
            "min_height": null,
            "min_width": null,
            "object_fit": null,
            "object_position": null,
            "order": null,
            "overflow": null,
            "overflow_x": null,
            "overflow_y": null,
            "padding": null,
            "right": null,
            "top": null,
            "visibility": null,
            "width": null
          }
        },
        "d70b6d968994444bb1f2bbacdcfed312": {
          "model_module": "@jupyter-widgets/controls",
          "model_name": "ButtonStyleModel",
          "model_module_version": "1.5.0",
          "state": {
            "_model_module": "@jupyter-widgets/controls",
            "_model_module_version": "1.5.0",
            "_model_name": "ButtonStyleModel",
            "_view_count": null,
            "_view_module": "@jupyter-widgets/base",
            "_view_module_version": "1.2.0",
            "_view_name": "StyleView",
            "button_color": null,
            "font_weight": ""
          }
        }
      }
    }
  },
  "cells": [
    {
      "cell_type": "code",
      "execution_count": 22,
      "metadata": {
        "id": "EBUliNHN9Pdt"
      },
      "outputs": [],
      "source": [
        "import os\n",
        "import numpy as np\n",
        "import tensorflow as tf\n",
        "from tensorflow.keras.preprocessing.image import ImageDataGenerator\n",
        "from sklearn.model_selection import train_test_split\n",
        "from sklearn.metrics import classification_report, confusion_matrix, accuracy_score\n",
        "import matplotlib.pyplot as plt\n",
        "import pandas as pd\n",
        "import plotly.figure_factory as ff\n"
      ]
    },
    {
      "cell_type": "code",
      "source": [
        "from google.colab import drive\n",
        "drive.mount('/content/drive')"
      ],
      "metadata": {
        "colab": {
          "base_uri": "https://localhost:8080/"
        },
        "id": "8DL2rAQkJGq9",
        "outputId": "5e732739-027c-467e-c177-1bcaad0c7491"
      },
      "execution_count": 23,
      "outputs": [
        {
          "output_type": "stream",
          "name": "stdout",
          "text": [
            "Drive already mounted at /content/drive; to attempt to forcibly remount, call drive.mount(\"/content/drive\", force_remount=True).\n"
          ]
        }
      ]
    },
    {
      "cell_type": "code",
      "source": [
        "# Define the path to the desired folder\n",
        "folder_path = '/content/drive/MyDrive/emotions'\n",
        "\n",
        "# Select the folders you want to use\n",
        "selected_folders = ['happy', 'sad', 'neutral', 'angry']\n"
      ],
      "metadata": {
        "id": "SGwJudsU9Q6B"
      },
      "execution_count": 24,
      "outputs": []
    },
    {
      "cell_type": "code",
      "source": [
        "data_dir = '/content/drive/MyDrive/emotions'  # Sesuaikan dengan direktori tempat data Anda disimpan\n",
        "\n",
        "# Verify if the selected folders contain images\n",
        "for folder in selected_folders:\n",
        "    folder_path = os.path.join(data_dir, folder)\n",
        "    if not os.path.exists(folder_path) or len(os.listdir(folder_path)) == 0:\n",
        "        print(f\"Warning: Folder {folder} is empty or does not exist.\")\n"
      ],
      "metadata": {
        "id": "AlBEzi6D93oE"
      },
      "execution_count": 26,
      "outputs": []
    },
    {
      "cell_type": "code",
      "source": [
        "import os\n",
        "\n",
        "# Define the path to the desired parent folder\n",
        "parent_folder_path = '/content/drive/MyDrive/emotions'\n",
        "\n",
        "# Select the folders you want to use\n",
        "selected_folders = ['happy', 'sad', 'neutral', 'angry']\n",
        "\n",
        "# Check availability of files and count the number of files in each selected folder\n",
        "for folder in selected_folders:\n",
        "    folder_path = os.path.join(parent_folder_path, folder)\n",
        "    if os.path.exists(folder_path) and os.listdir(folder_path):\n",
        "        file_count = len([name for name in os.listdir(folder_path) if os.path.isfile(os.path.join(folder_path, name))])\n",
        "        print(f\"Folder '{folder}' contains {file_count} files.\")\n",
        "    else:\n",
        "        print(f\"Folder '{folder}' is empty or does not exist.\")\n"
      ],
      "metadata": {
        "colab": {
          "base_uri": "https://localhost:8080/"
        },
        "id": "SS0ox-RgJs6T",
        "outputId": "50f481c4-9413-4b94-b307-c8183299cb0d"
      },
      "execution_count": 30,
      "outputs": [
        {
          "output_type": "stream",
          "name": "stdout",
          "text": [
            "Folder 'happy' contains 261 files.\n",
            "Folder 'sad' contains 134 files.\n",
            "Folder 'neutral' contains 105 files.\n",
            "Folder 'angry' contains 186 files.\n"
          ]
        }
      ]
    },
    {
      "cell_type": "code",
      "source": [
        "# Load and preprocess the data\n",
        "datagen = ImageDataGenerator(rescale=1./255, validation_split=0.2)\n",
        "\n",
        "# Create data generators\n",
        "train_generator = datagen.flow_from_directory(\n",
        "    data_dir,\n",
        "    target_size=(48, 48),\n",
        "    color_mode='grayscale',\n",
        "    classes=selected_folders,  # Filter only selected folders\n",
        "    class_mode='categorical',\n",
        "    batch_size=16,  # Reduced batch size\n",
        "    shuffle=True,\n",
        "    subset='training'\n",
        ")\n",
        "\n",
        "validation_generator = datagen.flow_from_directory(\n",
        "    data_dir,\n",
        "    target_size=(48, 48),\n",
        "    color_mode='grayscale',\n",
        "    classes=selected_folders,  # Filter only selected folders\n",
        "    class_mode='categorical',\n",
        "    batch_size=16,  # Reduced batch size\n",
        "    shuffle=True,\n",
        "    subset='validation'\n",
        ")\n"
      ],
      "metadata": {
        "colab": {
          "base_uri": "https://localhost:8080/"
        },
        "id": "wdHWbRvt9TGZ",
        "outputId": "78f4a37a-df51-452a-c25c-8f40e7a88428"
      },
      "execution_count": 31,
      "outputs": [
        {
          "output_type": "stream",
          "name": "stdout",
          "text": [
            "Found 548 images belonging to 4 classes.\n",
            "Found 134 images belonging to 4 classes.\n"
          ]
        }
      ]
    },
    {
      "cell_type": "code",
      "source": [
        "cnn_model = tf.keras.models.Sequential([\n",
        "    tf.keras.layers.Conv2D(32, (3,3), activation='relu', input_shape=(48, 48, 1)),\n",
        "    tf.keras.layers.MaxPooling2D(pool_size=(2,2)),\n",
        "    tf.keras.layers.Conv2D(64, (3,3), activation='relu'),\n",
        "    tf.keras.layers.MaxPooling2D(pool_size=(2,2)),\n",
        "    tf.keras.layers.Flatten(),\n",
        "    tf.keras.layers.Dense(128, activation='relu'),\n",
        "    tf.keras.layers.Dense(4, activation='softmax')  # Change number of outputs to 4\n",
        "])\n",
        "\n",
        "cnn_model.compile(optimizer='adam', loss='categorical_crossentropy', metrics=['accuracy'])\n"
      ],
      "metadata": {
        "id": "4adZK1V-9Vio"
      },
      "execution_count": 32,
      "outputs": []
    },
    {
      "cell_type": "code",
      "source": [
        "# Define callbacks\n",
        "checkpoint = tf.keras.callbacks.ModelCheckpoint('model_optimal.h5', monitor='val_accuracy', save_best_only=True, verbose=1)\n",
        "\n",
        "# Train the model without early stopping\n",
        "history = cnn_model.fit(\n",
        "    train_generator,\n",
        "    validation_data=validation_generator,\n",
        "    epochs=80,\n",
        "    callbacks=[checkpoint]\n",
        ")\n"
      ],
      "metadata": {
        "colab": {
          "base_uri": "https://localhost:8080/"
        },
        "id": "h_SobrnE9WPq",
        "outputId": "6eef0db5-61e7-4ac0-82fe-4235972d6e17"
      },
      "execution_count": 55,
      "outputs": [
        {
          "output_type": "stream",
          "name": "stdout",
          "text": [
            "Epoch 1/80\n",
            "35/35 [==============================] - ETA: 0s - loss: 0.4177 - accuracy: 0.8449\n",
            "Epoch 1: val_accuracy improved from -inf to 0.80597, saving model to model_optimal.h5\n",
            "35/35 [==============================] - 8s 164ms/step - loss: 0.4177 - accuracy: 0.8449 - val_loss: 0.4946 - val_accuracy: 0.8060\n",
            "Epoch 2/80\n"
          ]
        },
        {
          "output_type": "stream",
          "name": "stderr",
          "text": [
            "/usr/local/lib/python3.10/dist-packages/keras/src/engine/training.py:3103: UserWarning:\n",
            "\n",
            "You are saving your model as an HDF5 file via `model.save()`. This file format is considered legacy. We recommend using instead the native Keras format, e.g. `model.save('my_model.keras')`.\n",
            "\n"
          ]
        },
        {
          "output_type": "stream",
          "name": "stdout",
          "text": [
            "35/35 [==============================] - ETA: 0s - loss: 0.3347 - accuracy: 0.8905\n",
            "Epoch 2: val_accuracy did not improve from 0.80597\n",
            "35/35 [==============================] - 4s 106ms/step - loss: 0.3347 - accuracy: 0.8905 - val_loss: 0.4531 - val_accuracy: 0.7761\n",
            "Epoch 3/80\n",
            "35/35 [==============================] - ETA: 0s - loss: 0.2395 - accuracy: 0.9215\n",
            "Epoch 3: val_accuracy improved from 0.80597 to 0.82090, saving model to model_optimal.h5\n",
            "35/35 [==============================] - 5s 154ms/step - loss: 0.2395 - accuracy: 0.9215 - val_loss: 0.5000 - val_accuracy: 0.8209\n",
            "Epoch 4/80\n",
            "35/35 [==============================] - ETA: 0s - loss: 0.2013 - accuracy: 0.9361\n",
            "Epoch 4: val_accuracy did not improve from 0.82090\n",
            "35/35 [==============================] - 4s 115ms/step - loss: 0.2013 - accuracy: 0.9361 - val_loss: 0.6202 - val_accuracy: 0.7836\n",
            "Epoch 5/80\n",
            "35/35 [==============================] - ETA: 0s - loss: 0.1410 - accuracy: 0.9635\n",
            "Epoch 5: val_accuracy did not improve from 0.82090\n",
            "35/35 [==============================] - 4s 108ms/step - loss: 0.1410 - accuracy: 0.9635 - val_loss: 0.4856 - val_accuracy: 0.7985\n",
            "Epoch 6/80\n",
            "35/35 [==============================] - ETA: 0s - loss: 0.0872 - accuracy: 0.9818\n",
            "Epoch 6: val_accuracy did not improve from 0.82090\n",
            "35/35 [==============================] - 5s 155ms/step - loss: 0.0872 - accuracy: 0.9818 - val_loss: 0.5492 - val_accuracy: 0.7910\n",
            "Epoch 7/80\n",
            "35/35 [==============================] - ETA: 0s - loss: 0.0746 - accuracy: 0.9909\n",
            "Epoch 7: val_accuracy did not improve from 0.82090\n",
            "35/35 [==============================] - 5s 131ms/step - loss: 0.0746 - accuracy: 0.9909 - val_loss: 0.5577 - val_accuracy: 0.7910\n",
            "Epoch 8/80\n",
            "34/35 [============================>.] - ETA: 0s - loss: 0.0468 - accuracy: 0.9926\n",
            "Epoch 8: val_accuracy did not improve from 0.82090\n",
            "35/35 [==============================] - 4s 110ms/step - loss: 0.0464 - accuracy: 0.9927 - val_loss: 0.5407 - val_accuracy: 0.8060\n",
            "Epoch 9/80\n",
            "35/35 [==============================] - ETA: 0s - loss: 0.0430 - accuracy: 0.9909\n",
            "Epoch 9: val_accuracy did not improve from 0.82090\n",
            "35/35 [==============================] - 4s 112ms/step - loss: 0.0430 - accuracy: 0.9909 - val_loss: 1.0654 - val_accuracy: 0.8060\n",
            "Epoch 10/80\n",
            "35/35 [==============================] - ETA: 0s - loss: 0.0719 - accuracy: 0.9836\n",
            "Epoch 10: val_accuracy did not improve from 0.82090\n",
            "35/35 [==============================] - 6s 157ms/step - loss: 0.0719 - accuracy: 0.9836 - val_loss: 0.7975 - val_accuracy: 0.6866\n",
            "Epoch 11/80\n",
            "35/35 [==============================] - ETA: 0s - loss: 0.0330 - accuracy: 0.9945\n",
            "Epoch 11: val_accuracy improved from 0.82090 to 0.82836, saving model to model_optimal.h5\n",
            "35/35 [==============================] - 4s 109ms/step - loss: 0.0330 - accuracy: 0.9945 - val_loss: 0.7246 - val_accuracy: 0.8284\n",
            "Epoch 12/80\n",
            "35/35 [==============================] - ETA: 0s - loss: 0.0145 - accuracy: 1.0000\n",
            "Epoch 12: val_accuracy did not improve from 0.82836\n",
            "35/35 [==============================] - 4s 111ms/step - loss: 0.0145 - accuracy: 1.0000 - val_loss: 0.6567 - val_accuracy: 0.7761\n",
            "Epoch 13/80\n",
            "35/35 [==============================] - ETA: 0s - loss: 0.0174 - accuracy: 0.9982\n",
            "Epoch 13: val_accuracy did not improve from 0.82836\n",
            "35/35 [==============================] - 5s 151ms/step - loss: 0.0174 - accuracy: 0.9982 - val_loss: 0.6655 - val_accuracy: 0.7537\n",
            "Epoch 14/80\n",
            "35/35 [==============================] - ETA: 0s - loss: 0.0078 - accuracy: 1.0000\n",
            "Epoch 14: val_accuracy did not improve from 0.82836\n",
            "35/35 [==============================] - 5s 129ms/step - loss: 0.0078 - accuracy: 1.0000 - val_loss: 0.6207 - val_accuracy: 0.7612\n",
            "Epoch 15/80\n",
            "35/35 [==============================] - ETA: 0s - loss: 0.0045 - accuracy: 1.0000\n",
            "Epoch 15: val_accuracy did not improve from 0.82836\n",
            "35/35 [==============================] - 4s 107ms/step - loss: 0.0045 - accuracy: 1.0000 - val_loss: 0.6408 - val_accuracy: 0.7761\n",
            "Epoch 16/80\n",
            "35/35 [==============================] - ETA: 0s - loss: 0.0033 - accuracy: 1.0000\n",
            "Epoch 16: val_accuracy did not improve from 0.82836\n",
            "35/35 [==============================] - 4s 113ms/step - loss: 0.0033 - accuracy: 1.0000 - val_loss: 0.6216 - val_accuracy: 0.7836\n",
            "Epoch 17/80\n",
            "35/35 [==============================] - ETA: 0s - loss: 0.0027 - accuracy: 1.0000\n",
            "Epoch 17: val_accuracy did not improve from 0.82836\n",
            "35/35 [==============================] - 5s 134ms/step - loss: 0.0027 - accuracy: 1.0000 - val_loss: 0.6271 - val_accuracy: 0.7985\n",
            "Epoch 18/80\n",
            "35/35 [==============================] - ETA: 0s - loss: 0.0023 - accuracy: 1.0000\n",
            "Epoch 18: val_accuracy did not improve from 0.82836\n",
            "35/35 [==============================] - 4s 112ms/step - loss: 0.0023 - accuracy: 1.0000 - val_loss: 0.6206 - val_accuracy: 0.7836\n",
            "Epoch 19/80\n",
            "35/35 [==============================] - ETA: 0s - loss: 0.0020 - accuracy: 1.0000\n",
            "Epoch 19: val_accuracy did not improve from 0.82836\n",
            "35/35 [==============================] - 4s 121ms/step - loss: 0.0020 - accuracy: 1.0000 - val_loss: 0.6225 - val_accuracy: 0.7836\n",
            "Epoch 20/80\n",
            "35/35 [==============================] - ETA: 0s - loss: 0.0017 - accuracy: 1.0000\n",
            "Epoch 20: val_accuracy did not improve from 0.82836\n",
            "35/35 [==============================] - 5s 137ms/step - loss: 0.0017 - accuracy: 1.0000 - val_loss: 0.6247 - val_accuracy: 0.7761\n",
            "Epoch 21/80\n",
            "35/35 [==============================] - ETA: 0s - loss: 0.0017 - accuracy: 1.0000\n",
            "Epoch 21: val_accuracy did not improve from 0.82836\n",
            "35/35 [==============================] - 5s 147ms/step - loss: 0.0017 - accuracy: 1.0000 - val_loss: 0.6396 - val_accuracy: 0.7836\n",
            "Epoch 22/80\n",
            "34/35 [============================>.] - ETA: 0s - loss: 0.0014 - accuracy: 1.0000\n",
            "Epoch 22: val_accuracy did not improve from 0.82836\n",
            "35/35 [==============================] - 6s 173ms/step - loss: 0.0014 - accuracy: 1.0000 - val_loss: 0.6216 - val_accuracy: 0.7687\n",
            "Epoch 23/80\n",
            "35/35 [==============================] - ETA: 0s - loss: 0.0013 - accuracy: 1.0000\n",
            "Epoch 23: val_accuracy did not improve from 0.82836\n",
            "35/35 [==============================] - 4s 127ms/step - loss: 0.0013 - accuracy: 1.0000 - val_loss: 0.6341 - val_accuracy: 0.7836\n",
            "Epoch 24/80\n",
            "35/35 [==============================] - ETA: 0s - loss: 0.0012 - accuracy: 1.0000\n",
            "Epoch 24: val_accuracy did not improve from 0.82836\n",
            "35/35 [==============================] - 5s 145ms/step - loss: 0.0012 - accuracy: 1.0000 - val_loss: 0.6313 - val_accuracy: 0.7836\n",
            "Epoch 25/80\n",
            "35/35 [==============================] - ETA: 0s - loss: 0.0011 - accuracy: 1.0000\n",
            "Epoch 25: val_accuracy did not improve from 0.82836\n",
            "35/35 [==============================] - 5s 135ms/step - loss: 0.0011 - accuracy: 1.0000 - val_loss: 0.6357 - val_accuracy: 0.7761\n",
            "Epoch 26/80\n",
            "35/35 [==============================] - ETA: 0s - loss: 9.6663e-04 - accuracy: 1.0000\n",
            "Epoch 26: val_accuracy did not improve from 0.82836\n",
            "35/35 [==============================] - 6s 169ms/step - loss: 9.6663e-04 - accuracy: 1.0000 - val_loss: 0.6297 - val_accuracy: 0.7761\n",
            "Epoch 27/80\n",
            "35/35 [==============================] - ETA: 0s - loss: 8.8151e-04 - accuracy: 1.0000\n",
            "Epoch 27: val_accuracy did not improve from 0.82836\n",
            "35/35 [==============================] - 4s 111ms/step - loss: 8.8151e-04 - accuracy: 1.0000 - val_loss: 0.6393 - val_accuracy: 0.7836\n",
            "Epoch 28/80\n",
            "35/35 [==============================] - ETA: 0s - loss: 8.1228e-04 - accuracy: 1.0000\n",
            "Epoch 28: val_accuracy did not improve from 0.82836\n",
            "35/35 [==============================] - 4s 109ms/step - loss: 8.1228e-04 - accuracy: 1.0000 - val_loss: 0.6383 - val_accuracy: 0.7761\n",
            "Epoch 29/80\n",
            "35/35 [==============================] - ETA: 0s - loss: 7.6844e-04 - accuracy: 1.0000\n",
            "Epoch 29: val_accuracy did not improve from 0.82836\n",
            "35/35 [==============================] - 5s 141ms/step - loss: 7.6844e-04 - accuracy: 1.0000 - val_loss: 0.6406 - val_accuracy: 0.7761\n",
            "Epoch 30/80\n",
            "35/35 [==============================] - ETA: 0s - loss: 6.9660e-04 - accuracy: 1.0000\n",
            "Epoch 30: val_accuracy did not improve from 0.82836\n",
            "35/35 [==============================] - 4s 125ms/step - loss: 6.9660e-04 - accuracy: 1.0000 - val_loss: 0.6611 - val_accuracy: 0.7761\n",
            "Epoch 31/80\n",
            "35/35 [==============================] - ETA: 0s - loss: 6.4610e-04 - accuracy: 1.0000\n",
            "Epoch 31: val_accuracy did not improve from 0.82836\n",
            "35/35 [==============================] - 4s 114ms/step - loss: 6.4610e-04 - accuracy: 1.0000 - val_loss: 0.6450 - val_accuracy: 0.7761\n",
            "Epoch 32/80\n",
            "35/35 [==============================] - ETA: 0s - loss: 6.0551e-04 - accuracy: 1.0000\n",
            "Epoch 32: val_accuracy did not improve from 0.82836\n",
            "35/35 [==============================] - 5s 136ms/step - loss: 6.0551e-04 - accuracy: 1.0000 - val_loss: 0.6523 - val_accuracy: 0.7836\n",
            "Epoch 33/80\n",
            "35/35 [==============================] - ETA: 0s - loss: 5.6243e-04 - accuracy: 1.0000\n",
            "Epoch 33: val_accuracy did not improve from 0.82836\n",
            "35/35 [==============================] - 5s 143ms/step - loss: 5.6243e-04 - accuracy: 1.0000 - val_loss: 0.6488 - val_accuracy: 0.7761\n",
            "Epoch 34/80\n",
            "35/35 [==============================] - ETA: 0s - loss: 5.3250e-04 - accuracy: 1.0000\n",
            "Epoch 34: val_accuracy did not improve from 0.82836\n",
            "35/35 [==============================] - 4s 117ms/step - loss: 5.3250e-04 - accuracy: 1.0000 - val_loss: 0.6597 - val_accuracy: 0.7761\n",
            "Epoch 35/80\n",
            "35/35 [==============================] - ETA: 0s - loss: 4.9518e-04 - accuracy: 1.0000\n",
            "Epoch 35: val_accuracy did not improve from 0.82836\n",
            "35/35 [==============================] - 5s 132ms/step - loss: 4.9518e-04 - accuracy: 1.0000 - val_loss: 0.6525 - val_accuracy: 0.7761\n",
            "Epoch 36/80\n",
            "35/35 [==============================] - ETA: 0s - loss: 4.6788e-04 - accuracy: 1.0000\n",
            "Epoch 36: val_accuracy did not improve from 0.82836\n",
            "35/35 [==============================] - 5s 148ms/step - loss: 4.6788e-04 - accuracy: 1.0000 - val_loss: 0.6507 - val_accuracy: 0.7761\n",
            "Epoch 37/80\n",
            "35/35 [==============================] - ETA: 0s - loss: 4.4171e-04 - accuracy: 1.0000\n",
            "Epoch 37: val_accuracy did not improve from 0.82836\n",
            "35/35 [==============================] - 4s 123ms/step - loss: 4.4171e-04 - accuracy: 1.0000 - val_loss: 0.6590 - val_accuracy: 0.7761\n",
            "Epoch 38/80\n",
            "35/35 [==============================] - ETA: 0s - loss: 4.1105e-04 - accuracy: 1.0000\n",
            "Epoch 38: val_accuracy did not improve from 0.82836\n",
            "35/35 [==============================] - 4s 112ms/step - loss: 4.1105e-04 - accuracy: 1.0000 - val_loss: 0.6602 - val_accuracy: 0.7761\n",
            "Epoch 39/80\n",
            "35/35 [==============================] - ETA: 0s - loss: 3.8414e-04 - accuracy: 1.0000\n",
            "Epoch 39: val_accuracy did not improve from 0.82836\n",
            "35/35 [==============================] - 6s 166ms/step - loss: 3.8414e-04 - accuracy: 1.0000 - val_loss: 0.6571 - val_accuracy: 0.7761\n",
            "Epoch 40/80\n",
            "35/35 [==============================] - ETA: 0s - loss: 3.6427e-04 - accuracy: 1.0000\n",
            "Epoch 40: val_accuracy did not improve from 0.82836\n",
            "35/35 [==============================] - 4s 118ms/step - loss: 3.6427e-04 - accuracy: 1.0000 - val_loss: 0.6544 - val_accuracy: 0.7761\n",
            "Epoch 41/80\n",
            "35/35 [==============================] - ETA: 0s - loss: 3.5271e-04 - accuracy: 1.0000\n",
            "Epoch 41: val_accuracy did not improve from 0.82836\n",
            "35/35 [==============================] - 5s 138ms/step - loss: 3.5271e-04 - accuracy: 1.0000 - val_loss: 0.6751 - val_accuracy: 0.7761\n",
            "Epoch 42/80\n",
            "35/35 [==============================] - ETA: 0s - loss: 3.2859e-04 - accuracy: 1.0000\n",
            "Epoch 42: val_accuracy did not improve from 0.82836\n",
            "35/35 [==============================] - 6s 172ms/step - loss: 3.2859e-04 - accuracy: 1.0000 - val_loss: 0.6641 - val_accuracy: 0.7687\n",
            "Epoch 43/80\n",
            "35/35 [==============================] - ETA: 0s - loss: 3.1229e-04 - accuracy: 1.0000\n",
            "Epoch 43: val_accuracy did not improve from 0.82836\n",
            "35/35 [==============================] - 4s 120ms/step - loss: 3.1229e-04 - accuracy: 1.0000 - val_loss: 0.6674 - val_accuracy: 0.7687\n",
            "Epoch 44/80\n",
            "35/35 [==============================] - ETA: 0s - loss: 2.9874e-04 - accuracy: 1.0000\n",
            "Epoch 44: val_accuracy did not improve from 0.82836\n",
            "35/35 [==============================] - 4s 107ms/step - loss: 2.9874e-04 - accuracy: 1.0000 - val_loss: 0.6593 - val_accuracy: 0.7761\n",
            "Epoch 45/80\n",
            "35/35 [==============================] - ETA: 0s - loss: 2.8248e-04 - accuracy: 1.0000\n",
            "Epoch 45: val_accuracy did not improve from 0.82836\n",
            "35/35 [==============================] - 6s 165ms/step - loss: 2.8248e-04 - accuracy: 1.0000 - val_loss: 0.6653 - val_accuracy: 0.7687\n",
            "Epoch 46/80\n",
            "34/35 [============================>.] - ETA: 0s - loss: 2.6578e-04 - accuracy: 1.0000\n",
            "Epoch 46: val_accuracy did not improve from 0.82836\n",
            "35/35 [==============================] - 4s 112ms/step - loss: 2.6384e-04 - accuracy: 1.0000 - val_loss: 0.6664 - val_accuracy: 0.7687\n",
            "Epoch 47/80\n",
            "35/35 [==============================] - ETA: 0s - loss: 2.5192e-04 - accuracy: 1.0000\n",
            "Epoch 47: val_accuracy did not improve from 0.82836\n",
            "35/35 [==============================] - 4s 110ms/step - loss: 2.5192e-04 - accuracy: 1.0000 - val_loss: 0.6590 - val_accuracy: 0.7687\n",
            "Epoch 48/80\n",
            "35/35 [==============================] - ETA: 0s - loss: 2.3905e-04 - accuracy: 1.0000\n",
            "Epoch 48: val_accuracy did not improve from 0.82836\n",
            "35/35 [==============================] - 5s 148ms/step - loss: 2.3905e-04 - accuracy: 1.0000 - val_loss: 0.6692 - val_accuracy: 0.7687\n",
            "Epoch 49/80\n",
            "35/35 [==============================] - ETA: 0s - loss: 2.2691e-04 - accuracy: 1.0000\n",
            "Epoch 49: val_accuracy did not improve from 0.82836\n",
            "35/35 [==============================] - 4s 112ms/step - loss: 2.2691e-04 - accuracy: 1.0000 - val_loss: 0.6688 - val_accuracy: 0.7687\n",
            "Epoch 50/80\n",
            "35/35 [==============================] - ETA: 0s - loss: 2.1812e-04 - accuracy: 1.0000\n",
            "Epoch 50: val_accuracy did not improve from 0.82836\n",
            "35/35 [==============================] - 5s 137ms/step - loss: 2.1812e-04 - accuracy: 1.0000 - val_loss: 0.6760 - val_accuracy: 0.7687\n",
            "Epoch 51/80\n",
            "35/35 [==============================] - ETA: 0s - loss: 2.0954e-04 - accuracy: 1.0000\n",
            "Epoch 51: val_accuracy did not improve from 0.82836\n",
            "35/35 [==============================] - 6s 180ms/step - loss: 2.0954e-04 - accuracy: 1.0000 - val_loss: 0.6788 - val_accuracy: 0.7761\n",
            "Epoch 52/80\n",
            "35/35 [==============================] - ETA: 0s - loss: 1.9778e-04 - accuracy: 1.0000\n",
            "Epoch 52: val_accuracy did not improve from 0.82836\n",
            "35/35 [==============================] - 4s 120ms/step - loss: 1.9778e-04 - accuracy: 1.0000 - val_loss: 0.6757 - val_accuracy: 0.7687\n",
            "Epoch 53/80\n",
            "35/35 [==============================] - ETA: 0s - loss: 1.8813e-04 - accuracy: 1.0000\n",
            "Epoch 53: val_accuracy did not improve from 0.82836\n",
            "35/35 [==============================] - 6s 178ms/step - loss: 1.8813e-04 - accuracy: 1.0000 - val_loss: 0.6780 - val_accuracy: 0.7687\n",
            "Epoch 54/80\n",
            "34/35 [============================>.] - ETA: 0s - loss: 1.7615e-04 - accuracy: 1.0000\n",
            "Epoch 54: val_accuracy did not improve from 0.82836\n",
            "35/35 [==============================] - 4s 120ms/step - loss: 1.8021e-04 - accuracy: 1.0000 - val_loss: 0.6809 - val_accuracy: 0.7687\n",
            "Epoch 55/80\n",
            "35/35 [==============================] - ETA: 0s - loss: 1.7246e-04 - accuracy: 1.0000\n",
            "Epoch 55: val_accuracy did not improve from 0.82836\n",
            "35/35 [==============================] - 4s 114ms/step - loss: 1.7246e-04 - accuracy: 1.0000 - val_loss: 0.6757 - val_accuracy: 0.7687\n",
            "Epoch 56/80\n",
            "35/35 [==============================] - ETA: 0s - loss: 1.6432e-04 - accuracy: 1.0000\n",
            "Epoch 56: val_accuracy did not improve from 0.82836\n",
            "35/35 [==============================] - 6s 168ms/step - loss: 1.6432e-04 - accuracy: 1.0000 - val_loss: 0.6841 - val_accuracy: 0.7687\n",
            "Epoch 57/80\n",
            "35/35 [==============================] - ETA: 0s - loss: 1.5959e-04 - accuracy: 1.0000\n",
            "Epoch 57: val_accuracy did not improve from 0.82836\n",
            "35/35 [==============================] - 4s 116ms/step - loss: 1.5959e-04 - accuracy: 1.0000 - val_loss: 0.6779 - val_accuracy: 0.7687\n",
            "Epoch 58/80\n",
            "35/35 [==============================] - ETA: 0s - loss: 1.5085e-04 - accuracy: 1.0000\n",
            "Epoch 58: val_accuracy did not improve from 0.82836\n",
            "35/35 [==============================] - 4s 121ms/step - loss: 1.5085e-04 - accuracy: 1.0000 - val_loss: 0.6862 - val_accuracy: 0.7687\n",
            "Epoch 59/80\n",
            "35/35 [==============================] - ETA: 0s - loss: 1.4400e-04 - accuracy: 1.0000\n",
            "Epoch 59: val_accuracy did not improve from 0.82836\n",
            "35/35 [==============================] - 6s 161ms/step - loss: 1.4400e-04 - accuracy: 1.0000 - val_loss: 0.6813 - val_accuracy: 0.7687\n",
            "Epoch 60/80\n",
            "35/35 [==============================] - ETA: 0s - loss: 1.3927e-04 - accuracy: 1.0000\n",
            "Epoch 60: val_accuracy did not improve from 0.82836\n",
            "35/35 [==============================] - 4s 107ms/step - loss: 1.3927e-04 - accuracy: 1.0000 - val_loss: 0.6857 - val_accuracy: 0.7687\n",
            "Epoch 61/80\n",
            "35/35 [==============================] - ETA: 0s - loss: 1.3371e-04 - accuracy: 1.0000\n",
            "Epoch 61: val_accuracy did not improve from 0.82836\n",
            "35/35 [==============================] - 5s 138ms/step - loss: 1.3371e-04 - accuracy: 1.0000 - val_loss: 0.6930 - val_accuracy: 0.7687\n",
            "Epoch 62/80\n",
            "35/35 [==============================] - ETA: 0s - loss: 1.2683e-04 - accuracy: 1.0000\n",
            "Epoch 62: val_accuracy did not improve from 0.82836\n",
            "35/35 [==============================] - 5s 128ms/step - loss: 1.2683e-04 - accuracy: 1.0000 - val_loss: 0.6935 - val_accuracy: 0.7687\n",
            "Epoch 63/80\n",
            "35/35 [==============================] - ETA: 0s - loss: 1.2142e-04 - accuracy: 1.0000\n",
            "Epoch 63: val_accuracy did not improve from 0.82836\n",
            "35/35 [==============================] - 4s 106ms/step - loss: 1.2142e-04 - accuracy: 1.0000 - val_loss: 0.6917 - val_accuracy: 0.7687\n",
            "Epoch 64/80\n",
            "35/35 [==============================] - ETA: 0s - loss: 1.1732e-04 - accuracy: 1.0000\n",
            "Epoch 64: val_accuracy did not improve from 0.82836\n",
            "35/35 [==============================] - 4s 110ms/step - loss: 1.1732e-04 - accuracy: 1.0000 - val_loss: 0.6964 - val_accuracy: 0.7687\n",
            "Epoch 65/80\n",
            "35/35 [==============================] - ETA: 0s - loss: 1.1256e-04 - accuracy: 1.0000\n",
            "Epoch 65: val_accuracy did not improve from 0.82836\n",
            "35/35 [==============================] - 5s 145ms/step - loss: 1.1256e-04 - accuracy: 1.0000 - val_loss: 0.6903 - val_accuracy: 0.7687\n",
            "Epoch 66/80\n",
            "35/35 [==============================] - ETA: 0s - loss: 1.0858e-04 - accuracy: 1.0000\n",
            "Epoch 66: val_accuracy did not improve from 0.82836\n",
            "35/35 [==============================] - 4s 115ms/step - loss: 1.0858e-04 - accuracy: 1.0000 - val_loss: 0.6970 - val_accuracy: 0.7687\n",
            "Epoch 67/80\n",
            "35/35 [==============================] - ETA: 0s - loss: 1.0477e-04 - accuracy: 1.0000\n",
            "Epoch 67: val_accuracy did not improve from 0.82836\n",
            "35/35 [==============================] - 4s 114ms/step - loss: 1.0477e-04 - accuracy: 1.0000 - val_loss: 0.6954 - val_accuracy: 0.7687\n",
            "Epoch 68/80\n",
            "34/35 [============================>.] - ETA: 0s - loss: 1.0094e-04 - accuracy: 1.0000\n",
            "Epoch 68: val_accuracy did not improve from 0.82836\n",
            "35/35 [==============================] - 6s 167ms/step - loss: 1.0050e-04 - accuracy: 1.0000 - val_loss: 0.7023 - val_accuracy: 0.7687\n",
            "Epoch 69/80\n",
            "35/35 [==============================] - ETA: 0s - loss: 9.7513e-05 - accuracy: 1.0000\n",
            "Epoch 69: val_accuracy did not improve from 0.82836\n",
            "35/35 [==============================] - 4s 109ms/step - loss: 9.7513e-05 - accuracy: 1.0000 - val_loss: 0.6995 - val_accuracy: 0.7687\n",
            "Epoch 70/80\n",
            "35/35 [==============================] - ETA: 0s - loss: 9.3192e-05 - accuracy: 1.0000\n",
            "Epoch 70: val_accuracy did not improve from 0.82836\n",
            "35/35 [==============================] - 4s 112ms/step - loss: 9.3192e-05 - accuracy: 1.0000 - val_loss: 0.6965 - val_accuracy: 0.7687\n",
            "Epoch 71/80\n",
            "35/35 [==============================] - ETA: 0s - loss: 9.0193e-05 - accuracy: 1.0000\n",
            "Epoch 71: val_accuracy did not improve from 0.82836\n",
            "35/35 [==============================] - 6s 162ms/step - loss: 9.0193e-05 - accuracy: 1.0000 - val_loss: 0.6993 - val_accuracy: 0.7687\n",
            "Epoch 72/80\n",
            "35/35 [==============================] - ETA: 0s - loss: 8.8084e-05 - accuracy: 1.0000\n",
            "Epoch 72: val_accuracy did not improve from 0.82836\n",
            "35/35 [==============================] - 4s 111ms/step - loss: 8.8084e-05 - accuracy: 1.0000 - val_loss: 0.6971 - val_accuracy: 0.7687\n",
            "Epoch 73/80\n",
            "35/35 [==============================] - ETA: 0s - loss: 8.4076e-05 - accuracy: 1.0000\n",
            "Epoch 73: val_accuracy did not improve from 0.82836\n",
            "35/35 [==============================] - 4s 112ms/step - loss: 8.4076e-05 - accuracy: 1.0000 - val_loss: 0.6987 - val_accuracy: 0.7687\n",
            "Epoch 74/80\n",
            "35/35 [==============================] - ETA: 0s - loss: 8.1351e-05 - accuracy: 1.0000\n",
            "Epoch 74: val_accuracy did not improve from 0.82836\n",
            "35/35 [==============================] - 5s 153ms/step - loss: 8.1351e-05 - accuracy: 1.0000 - val_loss: 0.7045 - val_accuracy: 0.7687\n",
            "Epoch 75/80\n",
            "35/35 [==============================] - ETA: 0s - loss: 7.7374e-05 - accuracy: 1.0000\n",
            "Epoch 75: val_accuracy did not improve from 0.82836\n",
            "35/35 [==============================] - 5s 133ms/step - loss: 7.7374e-05 - accuracy: 1.0000 - val_loss: 0.7086 - val_accuracy: 0.7687\n",
            "Epoch 76/80\n",
            "35/35 [==============================] - ETA: 0s - loss: 7.6202e-05 - accuracy: 1.0000\n",
            "Epoch 76: val_accuracy did not improve from 0.82836\n",
            "35/35 [==============================] - 6s 159ms/step - loss: 7.6202e-05 - accuracy: 1.0000 - val_loss: 0.7112 - val_accuracy: 0.7761\n",
            "Epoch 77/80\n",
            "35/35 [==============================] - ETA: 0s - loss: 7.3298e-05 - accuracy: 1.0000\n",
            "Epoch 77: val_accuracy did not improve from 0.82836\n",
            "35/35 [==============================] - 4s 113ms/step - loss: 7.3298e-05 - accuracy: 1.0000 - val_loss: 0.7068 - val_accuracy: 0.7687\n",
            "Epoch 78/80\n",
            "35/35 [==============================] - ETA: 0s - loss: 6.9814e-05 - accuracy: 1.0000\n",
            "Epoch 78: val_accuracy did not improve from 0.82836\n",
            "35/35 [==============================] - 4s 121ms/step - loss: 6.9814e-05 - accuracy: 1.0000 - val_loss: 0.7174 - val_accuracy: 0.7687\n",
            "Epoch 79/80\n",
            "35/35 [==============================] - ETA: 0s - loss: 6.7819e-05 - accuracy: 1.0000\n",
            "Epoch 79: val_accuracy did not improve from 0.82836\n",
            "35/35 [==============================] - 6s 165ms/step - loss: 6.7819e-05 - accuracy: 1.0000 - val_loss: 0.7124 - val_accuracy: 0.7687\n",
            "Epoch 80/80\n",
            "35/35 [==============================] - ETA: 0s - loss: 6.4774e-05 - accuracy: 1.0000\n",
            "Epoch 80: val_accuracy did not improve from 0.82836\n",
            "35/35 [==============================] - 4s 113ms/step - loss: 6.4774e-05 - accuracy: 1.0000 - val_loss: 0.7126 - val_accuracy: 0.7687\n"
          ]
        }
      ]
    },
    {
      "cell_type": "code",
      "source": [
        "# Evaluate the model on the validation data\n",
        "cnn_model.load_weights('model_optimal.h5')\n",
        "validation_loss, validation_accuracy = cnn_model.evaluate(validation_generator)\n",
        "print(f'Validation Loss: {validation_loss}')\n",
        "print(f'Validation Accuracy: {validation_accuracy}')\n"
      ],
      "metadata": {
        "colab": {
          "base_uri": "https://localhost:8080/"
        },
        "id": "3QoGTvIj9Y2F",
        "outputId": "3bcb80d7-8e55-4750-b4cf-51ef28084f25"
      },
      "execution_count": 56,
      "outputs": [
        {
          "output_type": "stream",
          "name": "stdout",
          "text": [
            "9/9 [==============================] - 1s 79ms/step - loss: 0.7246 - accuracy: 0.8284\n",
            "Validation Loss: 0.724563717842102\n",
            "Validation Accuracy: 0.8283582329750061\n"
          ]
        }
      ]
    },
    {
      "cell_type": "code",
      "source": [
        "# Predict on validation data using the trained model\n",
        "Y_pred = cnn_model.predict(validation_generator)\n",
        "y_pred = np.argmax(Y_pred, axis=1)\n",
        "y_true = validation_generator.classes\n",
        "\n",
        "# Print classification report\n",
        "report = classification_report(y_true, y_pred, target_names=selected_folders)\n",
        "print(report)\n",
        "\n",
        "# Confusion matrix\n",
        "cm = confusion_matrix(y_true, y_pred)\n",
        "cm_df = pd.DataFrame(cm, index=selected_folders, columns=selected_folders)\n",
        "\n",
        "# Plot confusion matrix\n",
        "fig = ff.create_annotated_heatmap(\n",
        "    z=cm_df.values,\n",
        "    x=list(cm_df.columns),\n",
        "    y=list(cm_df.index),\n",
        "    annotation_text=cm_df.values,\n",
        "    colorscale='Blues'\n",
        ")\n",
        "fig.update_layout(title='Confusion Matrix', xaxis_title='Predicted Label', yaxis_title='True Label')\n",
        "fig.show()\n"
      ],
      "metadata": {
        "colab": {
          "base_uri": "https://localhost:8080/",
          "height": 768
        },
        "id": "SEl4KWHH9Zw2",
        "outputId": "526a9601-6565-432b-a87d-2f5ae6971134"
      },
      "execution_count": 63,
      "outputs": [
        {
          "output_type": "stream",
          "name": "stdout",
          "text": [
            "11/11 [==============================] - 7s 682ms/step\n",
            "              precision    recall  f1-score   support\n",
            "\n",
            "       happy       0.98      0.99      0.98       259\n",
            "         sad       1.00      0.91      0.95       133\n",
            "     neutral       0.94      0.94      0.94       104\n",
            "       angry       0.94      0.98      0.96       186\n",
            "\n",
            "    accuracy                           0.97       682\n",
            "   macro avg       0.97      0.96      0.96       682\n",
            "weighted avg       0.97      0.97      0.97       682\n",
            "\n"
          ]
        },
        {
          "output_type": "display_data",
          "data": {
            "text/html": [
              "<html>\n",
              "<head><meta charset=\"utf-8\" /></head>\n",
              "<body>\n",
              "    <div>            <script src=\"https://cdnjs.cloudflare.com/ajax/libs/mathjax/2.7.5/MathJax.js?config=TeX-AMS-MML_SVG\"></script><script type=\"text/javascript\">if (window.MathJax && window.MathJax.Hub && window.MathJax.Hub.Config) {window.MathJax.Hub.Config({SVG: {font: \"STIX-Web\"}});}</script>                <script type=\"text/javascript\">window.PlotlyConfig = {MathJaxConfig: 'local'};</script>\n",
              "        <script charset=\"utf-8\" src=\"https://cdn.plot.ly/plotly-2.24.1.min.js\"></script>                <div id=\"2716f6a9-fc2d-495f-90d3-af82954766a2\" class=\"plotly-graph-div\" style=\"height:525px; width:100%;\"></div>            <script type=\"text/javascript\">                                    window.PLOTLYENV=window.PLOTLYENV || {};                                    if (document.getElementById(\"2716f6a9-fc2d-495f-90d3-af82954766a2\")) {                    Plotly.newPlot(                        \"2716f6a9-fc2d-495f-90d3-af82954766a2\",                        [{\"colorscale\":[[0.0,\"rgb(247,251,255)\"],[0.125,\"rgb(222,235,247)\"],[0.25,\"rgb(198,219,239)\"],[0.375,\"rgb(158,202,225)\"],[0.5,\"rgb(107,174,214)\"],[0.625,\"rgb(66,146,198)\"],[0.75,\"rgb(33,113,181)\"],[0.875,\"rgb(8,81,156)\"],[1.0,\"rgb(8,48,107)\"]],\"reversescale\":false,\"showscale\":false,\"x\":[\"happy\",\"sad\",\"neutral\",\"angry\"],\"y\":[\"happy\",\"sad\",\"neutral\",\"angry\"],\"z\":[[257,0,0,2],[0,121,3,9],[6,0,98,0],[0,0,3,183]],\"type\":\"heatmap\"}],                        {\"annotations\":[{\"font\":{\"color\":\"#FFFFFF\"},\"showarrow\":false,\"text\":\"257\",\"x\":\"happy\",\"xref\":\"x\",\"y\":\"happy\",\"yref\":\"y\"},{\"font\":{\"color\":\"#000000\"},\"showarrow\":false,\"text\":\"0\",\"x\":\"sad\",\"xref\":\"x\",\"y\":\"happy\",\"yref\":\"y\"},{\"font\":{\"color\":\"#000000\"},\"showarrow\":false,\"text\":\"0\",\"x\":\"neutral\",\"xref\":\"x\",\"y\":\"happy\",\"yref\":\"y\"},{\"font\":{\"color\":\"#000000\"},\"showarrow\":false,\"text\":\"2\",\"x\":\"angry\",\"xref\":\"x\",\"y\":\"happy\",\"yref\":\"y\"},{\"font\":{\"color\":\"#000000\"},\"showarrow\":false,\"text\":\"0\",\"x\":\"happy\",\"xref\":\"x\",\"y\":\"sad\",\"yref\":\"y\"},{\"font\":{\"color\":\"#000000\"},\"showarrow\":false,\"text\":\"121\",\"x\":\"sad\",\"xref\":\"x\",\"y\":\"sad\",\"yref\":\"y\"},{\"font\":{\"color\":\"#000000\"},\"showarrow\":false,\"text\":\"3\",\"x\":\"neutral\",\"xref\":\"x\",\"y\":\"sad\",\"yref\":\"y\"},{\"font\":{\"color\":\"#000000\"},\"showarrow\":false,\"text\":\"9\",\"x\":\"angry\",\"xref\":\"x\",\"y\":\"sad\",\"yref\":\"y\"},{\"font\":{\"color\":\"#000000\"},\"showarrow\":false,\"text\":\"6\",\"x\":\"happy\",\"xref\":\"x\",\"y\":\"neutral\",\"yref\":\"y\"},{\"font\":{\"color\":\"#000000\"},\"showarrow\":false,\"text\":\"0\",\"x\":\"sad\",\"xref\":\"x\",\"y\":\"neutral\",\"yref\":\"y\"},{\"font\":{\"color\":\"#000000\"},\"showarrow\":false,\"text\":\"98\",\"x\":\"neutral\",\"xref\":\"x\",\"y\":\"neutral\",\"yref\":\"y\"},{\"font\":{\"color\":\"#000000\"},\"showarrow\":false,\"text\":\"0\",\"x\":\"angry\",\"xref\":\"x\",\"y\":\"neutral\",\"yref\":\"y\"},{\"font\":{\"color\":\"#000000\"},\"showarrow\":false,\"text\":\"0\",\"x\":\"happy\",\"xref\":\"x\",\"y\":\"angry\",\"yref\":\"y\"},{\"font\":{\"color\":\"#000000\"},\"showarrow\":false,\"text\":\"0\",\"x\":\"sad\",\"xref\":\"x\",\"y\":\"angry\",\"yref\":\"y\"},{\"font\":{\"color\":\"#000000\"},\"showarrow\":false,\"text\":\"3\",\"x\":\"neutral\",\"xref\":\"x\",\"y\":\"angry\",\"yref\":\"y\"},{\"font\":{\"color\":\"#FFFFFF\"},\"showarrow\":false,\"text\":\"183\",\"x\":\"angry\",\"xref\":\"x\",\"y\":\"angry\",\"yref\":\"y\"}],\"xaxis\":{\"dtick\":1,\"gridcolor\":\"rgb(0, 0, 0)\",\"side\":\"top\",\"ticks\":\"\",\"title\":{\"text\":\"Predicted Label\"}},\"yaxis\":{\"dtick\":1,\"ticks\":\"\",\"ticksuffix\":\"  \",\"title\":{\"text\":\"True Label\"}},\"template\":{\"data\":{\"histogram2dcontour\":[{\"type\":\"histogram2dcontour\",\"colorbar\":{\"outlinewidth\":0,\"ticks\":\"\"},\"colorscale\":[[0.0,\"#0d0887\"],[0.1111111111111111,\"#46039f\"],[0.2222222222222222,\"#7201a8\"],[0.3333333333333333,\"#9c179e\"],[0.4444444444444444,\"#bd3786\"],[0.5555555555555556,\"#d8576b\"],[0.6666666666666666,\"#ed7953\"],[0.7777777777777778,\"#fb9f3a\"],[0.8888888888888888,\"#fdca26\"],[1.0,\"#f0f921\"]]}],\"choropleth\":[{\"type\":\"choropleth\",\"colorbar\":{\"outlinewidth\":0,\"ticks\":\"\"}}],\"histogram2d\":[{\"type\":\"histogram2d\",\"colorbar\":{\"outlinewidth\":0,\"ticks\":\"\"},\"colorscale\":[[0.0,\"#0d0887\"],[0.1111111111111111,\"#46039f\"],[0.2222222222222222,\"#7201a8\"],[0.3333333333333333,\"#9c179e\"],[0.4444444444444444,\"#bd3786\"],[0.5555555555555556,\"#d8576b\"],[0.6666666666666666,\"#ed7953\"],[0.7777777777777778,\"#fb9f3a\"],[0.8888888888888888,\"#fdca26\"],[1.0,\"#f0f921\"]]}],\"heatmap\":[{\"type\":\"heatmap\",\"colorbar\":{\"outlinewidth\":0,\"ticks\":\"\"},\"colorscale\":[[0.0,\"#0d0887\"],[0.1111111111111111,\"#46039f\"],[0.2222222222222222,\"#7201a8\"],[0.3333333333333333,\"#9c179e\"],[0.4444444444444444,\"#bd3786\"],[0.5555555555555556,\"#d8576b\"],[0.6666666666666666,\"#ed7953\"],[0.7777777777777778,\"#fb9f3a\"],[0.8888888888888888,\"#fdca26\"],[1.0,\"#f0f921\"]]}],\"heatmapgl\":[{\"type\":\"heatmapgl\",\"colorbar\":{\"outlinewidth\":0,\"ticks\":\"\"},\"colorscale\":[[0.0,\"#0d0887\"],[0.1111111111111111,\"#46039f\"],[0.2222222222222222,\"#7201a8\"],[0.3333333333333333,\"#9c179e\"],[0.4444444444444444,\"#bd3786\"],[0.5555555555555556,\"#d8576b\"],[0.6666666666666666,\"#ed7953\"],[0.7777777777777778,\"#fb9f3a\"],[0.8888888888888888,\"#fdca26\"],[1.0,\"#f0f921\"]]}],\"contourcarpet\":[{\"type\":\"contourcarpet\",\"colorbar\":{\"outlinewidth\":0,\"ticks\":\"\"}}],\"contour\":[{\"type\":\"contour\",\"colorbar\":{\"outlinewidth\":0,\"ticks\":\"\"},\"colorscale\":[[0.0,\"#0d0887\"],[0.1111111111111111,\"#46039f\"],[0.2222222222222222,\"#7201a8\"],[0.3333333333333333,\"#9c179e\"],[0.4444444444444444,\"#bd3786\"],[0.5555555555555556,\"#d8576b\"],[0.6666666666666666,\"#ed7953\"],[0.7777777777777778,\"#fb9f3a\"],[0.8888888888888888,\"#fdca26\"],[1.0,\"#f0f921\"]]}],\"surface\":[{\"type\":\"surface\",\"colorbar\":{\"outlinewidth\":0,\"ticks\":\"\"},\"colorscale\":[[0.0,\"#0d0887\"],[0.1111111111111111,\"#46039f\"],[0.2222222222222222,\"#7201a8\"],[0.3333333333333333,\"#9c179e\"],[0.4444444444444444,\"#bd3786\"],[0.5555555555555556,\"#d8576b\"],[0.6666666666666666,\"#ed7953\"],[0.7777777777777778,\"#fb9f3a\"],[0.8888888888888888,\"#fdca26\"],[1.0,\"#f0f921\"]]}],\"mesh3d\":[{\"type\":\"mesh3d\",\"colorbar\":{\"outlinewidth\":0,\"ticks\":\"\"}}],\"scatter\":[{\"fillpattern\":{\"fillmode\":\"overlay\",\"size\":10,\"solidity\":0.2},\"type\":\"scatter\"}],\"parcoords\":[{\"type\":\"parcoords\",\"line\":{\"colorbar\":{\"outlinewidth\":0,\"ticks\":\"\"}}}],\"scatterpolargl\":[{\"type\":\"scatterpolargl\",\"marker\":{\"colorbar\":{\"outlinewidth\":0,\"ticks\":\"\"}}}],\"bar\":[{\"error_x\":{\"color\":\"#2a3f5f\"},\"error_y\":{\"color\":\"#2a3f5f\"},\"marker\":{\"line\":{\"color\":\"#E5ECF6\",\"width\":0.5},\"pattern\":{\"fillmode\":\"overlay\",\"size\":10,\"solidity\":0.2}},\"type\":\"bar\"}],\"scattergeo\":[{\"type\":\"scattergeo\",\"marker\":{\"colorbar\":{\"outlinewidth\":0,\"ticks\":\"\"}}}],\"scatterpolar\":[{\"type\":\"scatterpolar\",\"marker\":{\"colorbar\":{\"outlinewidth\":0,\"ticks\":\"\"}}}],\"histogram\":[{\"marker\":{\"pattern\":{\"fillmode\":\"overlay\",\"size\":10,\"solidity\":0.2}},\"type\":\"histogram\"}],\"scattergl\":[{\"type\":\"scattergl\",\"marker\":{\"colorbar\":{\"outlinewidth\":0,\"ticks\":\"\"}}}],\"scatter3d\":[{\"type\":\"scatter3d\",\"line\":{\"colorbar\":{\"outlinewidth\":0,\"ticks\":\"\"}},\"marker\":{\"colorbar\":{\"outlinewidth\":0,\"ticks\":\"\"}}}],\"scattermapbox\":[{\"type\":\"scattermapbox\",\"marker\":{\"colorbar\":{\"outlinewidth\":0,\"ticks\":\"\"}}}],\"scatterternary\":[{\"type\":\"scatterternary\",\"marker\":{\"colorbar\":{\"outlinewidth\":0,\"ticks\":\"\"}}}],\"scattercarpet\":[{\"type\":\"scattercarpet\",\"marker\":{\"colorbar\":{\"outlinewidth\":0,\"ticks\":\"\"}}}],\"carpet\":[{\"aaxis\":{\"endlinecolor\":\"#2a3f5f\",\"gridcolor\":\"white\",\"linecolor\":\"white\",\"minorgridcolor\":\"white\",\"startlinecolor\":\"#2a3f5f\"},\"baxis\":{\"endlinecolor\":\"#2a3f5f\",\"gridcolor\":\"white\",\"linecolor\":\"white\",\"minorgridcolor\":\"white\",\"startlinecolor\":\"#2a3f5f\"},\"type\":\"carpet\"}],\"table\":[{\"cells\":{\"fill\":{\"color\":\"#EBF0F8\"},\"line\":{\"color\":\"white\"}},\"header\":{\"fill\":{\"color\":\"#C8D4E3\"},\"line\":{\"color\":\"white\"}},\"type\":\"table\"}],\"barpolar\":[{\"marker\":{\"line\":{\"color\":\"#E5ECF6\",\"width\":0.5},\"pattern\":{\"fillmode\":\"overlay\",\"size\":10,\"solidity\":0.2}},\"type\":\"barpolar\"}],\"pie\":[{\"automargin\":true,\"type\":\"pie\"}]},\"layout\":{\"autotypenumbers\":\"strict\",\"colorway\":[\"#636efa\",\"#EF553B\",\"#00cc96\",\"#ab63fa\",\"#FFA15A\",\"#19d3f3\",\"#FF6692\",\"#B6E880\",\"#FF97FF\",\"#FECB52\"],\"font\":{\"color\":\"#2a3f5f\"},\"hovermode\":\"closest\",\"hoverlabel\":{\"align\":\"left\"},\"paper_bgcolor\":\"white\",\"plot_bgcolor\":\"#E5ECF6\",\"polar\":{\"bgcolor\":\"#E5ECF6\",\"angularaxis\":{\"gridcolor\":\"white\",\"linecolor\":\"white\",\"ticks\":\"\"},\"radialaxis\":{\"gridcolor\":\"white\",\"linecolor\":\"white\",\"ticks\":\"\"}},\"ternary\":{\"bgcolor\":\"#E5ECF6\",\"aaxis\":{\"gridcolor\":\"white\",\"linecolor\":\"white\",\"ticks\":\"\"},\"baxis\":{\"gridcolor\":\"white\",\"linecolor\":\"white\",\"ticks\":\"\"},\"caxis\":{\"gridcolor\":\"white\",\"linecolor\":\"white\",\"ticks\":\"\"}},\"coloraxis\":{\"colorbar\":{\"outlinewidth\":0,\"ticks\":\"\"}},\"colorscale\":{\"sequential\":[[0.0,\"#0d0887\"],[0.1111111111111111,\"#46039f\"],[0.2222222222222222,\"#7201a8\"],[0.3333333333333333,\"#9c179e\"],[0.4444444444444444,\"#bd3786\"],[0.5555555555555556,\"#d8576b\"],[0.6666666666666666,\"#ed7953\"],[0.7777777777777778,\"#fb9f3a\"],[0.8888888888888888,\"#fdca26\"],[1.0,\"#f0f921\"]],\"sequentialminus\":[[0.0,\"#0d0887\"],[0.1111111111111111,\"#46039f\"],[0.2222222222222222,\"#7201a8\"],[0.3333333333333333,\"#9c179e\"],[0.4444444444444444,\"#bd3786\"],[0.5555555555555556,\"#d8576b\"],[0.6666666666666666,\"#ed7953\"],[0.7777777777777778,\"#fb9f3a\"],[0.8888888888888888,\"#fdca26\"],[1.0,\"#f0f921\"]],\"diverging\":[[0,\"#8e0152\"],[0.1,\"#c51b7d\"],[0.2,\"#de77ae\"],[0.3,\"#f1b6da\"],[0.4,\"#fde0ef\"],[0.5,\"#f7f7f7\"],[0.6,\"#e6f5d0\"],[0.7,\"#b8e186\"],[0.8,\"#7fbc41\"],[0.9,\"#4d9221\"],[1,\"#276419\"]]},\"xaxis\":{\"gridcolor\":\"white\",\"linecolor\":\"white\",\"ticks\":\"\",\"title\":{\"standoff\":15},\"zerolinecolor\":\"white\",\"automargin\":true,\"zerolinewidth\":2},\"yaxis\":{\"gridcolor\":\"white\",\"linecolor\":\"white\",\"ticks\":\"\",\"title\":{\"standoff\":15},\"zerolinecolor\":\"white\",\"automargin\":true,\"zerolinewidth\":2},\"scene\":{\"xaxis\":{\"backgroundcolor\":\"#E5ECF6\",\"gridcolor\":\"white\",\"linecolor\":\"white\",\"showbackground\":true,\"ticks\":\"\",\"zerolinecolor\":\"white\",\"gridwidth\":2},\"yaxis\":{\"backgroundcolor\":\"#E5ECF6\",\"gridcolor\":\"white\",\"linecolor\":\"white\",\"showbackground\":true,\"ticks\":\"\",\"zerolinecolor\":\"white\",\"gridwidth\":2},\"zaxis\":{\"backgroundcolor\":\"#E5ECF6\",\"gridcolor\":\"white\",\"linecolor\":\"white\",\"showbackground\":true,\"ticks\":\"\",\"zerolinecolor\":\"white\",\"gridwidth\":2}},\"shapedefaults\":{\"line\":{\"color\":\"#2a3f5f\"}},\"annotationdefaults\":{\"arrowcolor\":\"#2a3f5f\",\"arrowhead\":0,\"arrowwidth\":1},\"geo\":{\"bgcolor\":\"white\",\"landcolor\":\"#E5ECF6\",\"subunitcolor\":\"white\",\"showland\":true,\"showlakes\":true,\"lakecolor\":\"white\"},\"title\":{\"x\":0.05},\"mapbox\":{\"style\":\"light\"}}},\"title\":{\"text\":\"Confusion Matrix\"}},                        {\"responsive\": true}                    ).then(function(){\n",
              "                            \n",
              "var gd = document.getElementById('2716f6a9-fc2d-495f-90d3-af82954766a2');\n",
              "var x = new MutationObserver(function (mutations, observer) {{\n",
              "        var display = window.getComputedStyle(gd).display;\n",
              "        if (!display || display === 'none') {{\n",
              "            console.log([gd, 'removed!']);\n",
              "            Plotly.purge(gd);\n",
              "            observer.disconnect();\n",
              "        }}\n",
              "}});\n",
              "\n",
              "// Listen for the removal of the full notebook cells\n",
              "var notebookContainer = gd.closest('#notebook-container');\n",
              "if (notebookContainer) {{\n",
              "    x.observe(notebookContainer, {childList: true});\n",
              "}}\n",
              "\n",
              "// Listen for the clearing of the current output cell\n",
              "var outputEl = gd.closest('.output');\n",
              "if (outputEl) {{\n",
              "    x.observe(outputEl, {childList: true});\n",
              "}}\n",
              "\n",
              "                        })                };                            </script>        </div>\n",
              "</body>\n",
              "</html>"
            ]
          },
          "metadata": {}
        }
      ]
    },
    {
      "cell_type": "code",
      "source": [
        "def load_and_preprocess_image(img_path):\n",
        "    img = tf.keras.preprocessing.image.load_img(img_path, target_size=(48, 48), color_mode='grayscale')\n",
        "    img_array = tf.keras.preprocessing.image.img_to_array(img) / 255.0\n",
        "    img_array = np.expand_dims(img_array, axis=0)  # Expand dims to create batch of size 1\n",
        "    return img_array\n",
        "\n",
        "def predict_image_class(model, img_path, class_indices):\n",
        "    img_array = load_and_preprocess_image(img_path)\n",
        "    prediction = model.predict(img_array).argmax(axis=1)\n",
        "    class_labels = {v: k for k, v in class_indices.items()}\n",
        "    predicted_class = class_labels[prediction[0]]\n",
        "\n",
        "    # Display the image and prediction\n",
        "    img = tf.keras.preprocessing.image.load_img(img_path, target_size=(48, 48), color_mode='grayscale')\n",
        "    plt.imshow(img, cmap='gray')\n",
        "    plt.title(f'Predicted Class: {predicted_class}')\n",
        "    plt.axis('off')\n",
        "    plt.show()\n",
        "\n",
        "    return predicted_class\n",
        "\n",
        "new_image_path = '/content/drive/MyDrive/emotions/neutral/S139_002_00000011.png'  # Path to the new image\n",
        "predicted_class = predict_image_class(cnn_model, new_image_path, train_generator.class_indices)\n",
        "print(f'The predicted class for the new image is: {predicted_class}')\n"
      ],
      "metadata": {
        "colab": {
          "base_uri": "https://localhost:8080/",
          "height": 466
        },
        "id": "6KvKG_So9bxH",
        "outputId": "e0e07c83-4a1b-4c15-cfb2-024a88ee40dd"
      },
      "execution_count": 36,
      "outputs": [
        {
          "output_type": "stream",
          "name": "stdout",
          "text": [
            "1/1 [==============================] - 0s 123ms/step\n"
          ]
        },
        {
          "output_type": "display_data",
          "data": {
            "text/plain": [
              "<Figure size 640x480 with 1 Axes>"
            ],
            "image/png": "[encoded data removed]"
          },
          "metadata": {}
        },
        {
          "output_type": "stream",
          "name": "stdout",
          "text": [
            "The predicted class for the new image is: neutral\n"
          ]
        }
      ]
    },
    {
      "cell_type": "code",
      "source": [
        "import numpy as np\n",
        "import matplotlib.pyplot as plt\n",
        "from tensorflow.keras.preprocessing import image\n",
        "from tensorflow.keras.models import load_model\n",
        "from IPython.display import display\n",
        "from ipywidgets import FileUpload\n",
        "from tensorflow.keras.preprocessing.image import ImageDataGenerator\n",
        "\n",
        "# Function to load and preprocess the image\n",
        "def load_and_preprocess_image(img_path):\n",
        "    img = image.load_img(img_path, target_size=(48, 48), color_mode='grayscale')\n",
        "    img_array = image.img_to_array(img) / 255.0\n",
        "    img_array = np.expand_dims(img_array, axis=0)  # Expand dims to create batch of size 1\n",
        "    return img_array\n",
        "\n",
        "# Function to predict the image class\n",
        "def predict_image_class(model, img_path, class_indices):\n",
        "    img_array = load_and_preprocess_image(img_path)\n",
        "    prediction = model.predict(img_array).argmax(axis=1)\n",
        "    class_labels = {v: k for k, v in class_indices.items()}\n",
        "    predicted_class = class_labels[prediction[0]]\n",
        "\n",
        "    # Display the image and prediction\n",
        "    img = image.load_img(img_path, target_size=(48, 48), color_mode='grayscale')\n",
        "    plt.imshow(img, cmap='gray')\n",
        "    plt.title(f'Predicted Class: {predicted_class}')\n",
        "    plt.axis('off')\n",
        "    plt.show()\n",
        "\n",
        "    return predicted_class\n"
      ],
      "metadata": {
        "id": "heZY7VdoADNr"
      },
      "execution_count": 37,
      "outputs": []
    },
    {
      "cell_type": "code",
      "source": [
        "# Load your model here\n",
        "cnn_model = load_model('/content/model_optimal.h5')\n"
      ],
      "metadata": {
        "id": "tD_YnpYGBf1j"
      },
      "execution_count": 38,
      "outputs": []
    },
    {
      "cell_type": "code",
      "source": [
        "# Define the selected classes\n",
        "selected_classes = ['happy', 'sad', 'neutral', 'angry']\n",
        "\n",
        "# Define ImageDataGenerator to fetch class indices for selected classes\n",
        "datagen = ImageDataGenerator(rescale=1./255)\n",
        "data_generator = datagen.flow_from_directory(\n",
        "    data_dir,\n",
        "    target_size=(48, 48),\n",
        "    color_mode='grayscale',\n",
        "    classes=selected_classes,\n",
        "    class_mode='categorical',\n",
        "    shuffle=True\n",
        ")\n",
        "class_indices = data_generator.class_indices\n"
      ],
      "metadata": {
        "colab": {
          "base_uri": "https://localhost:8080/"
        },
        "id": "5m8lBiRtBiek",
        "outputId": "4cbc6c05-87be-4799-c7aa-5b80a06df0e2"
      },
      "execution_count": 39,
      "outputs": [
        {
          "output_type": "stream",
          "name": "stdout",
          "text": [
            "Found 682 images belonging to 4 classes.\n"
          ]
        }
      ]
    },
    {
      "cell_type": "code",
      "source": [
        "upload = FileUpload(accept='.png, .jpg, .jpeg', multiple=False)\n",
        "display(upload)\n",
        "\n",
        "def on_upload_change(change):\n",
        "    if upload.value:\n",
        "        uploaded_file = list(upload.value.values())[0]\n",
        "        with open('uploaded_image.png', 'wb') as f:\n",
        "            f.write(uploaded_file['content'])\n",
        "        predicted_class = predict_image_class(cnn_model, 'uploaded_image.png', class_indices)\n",
        "        print(f'The predicted class for the new image is: {predicted_class}')\n",
        "    else:\n",
        "        print(\"Please upload an image first.\")\n",
        "\n",
        "upload.observe(on_upload_change, names='value')\n"
      ],
      "metadata": {
        "colab": {
          "base_uri": "https://localhost:8080/",
          "height": 1000,
          "referenced_widgets": [
            "0247fb7ff58b4ddc8d88f0f10220b8ab",
            "9c09fdaf55f64fe28baa0df908720d19",
            "5c5d810d282444eb80c84054ef97ae2b"
          ]
        },
        "id": "yr9kRYKdBqkC",
        "outputId": "df1be4ab-39ef-4de4-eac9-59e639cc6c3f"
      },
      "execution_count": 64,
      "outputs": [
        {
          "output_type": "display_data",
          "data": {
            "text/plain": [
              "FileUpload(value={}, accept='.png, .jpg, .jpeg', description='Upload')"
            ],
            "application/vnd.jupyter.widget-view+json": {
              "version_major": 2,
              "version_minor": 0,
              "model_id": "0247fb7ff58b4ddc8d88f0f10220b8ab"
            }
          },
          "metadata": {}
        },
        {
          "output_type": "stream",
          "name": "stdout",
          "text": [
            "1/1 [==============================] - 0s 29ms/step\n"
          ]
        },
        {
          "output_type": "display_data",
          "data": {
            "text/plain": [
              "<Figure size 640x480 with 1 Axes>"
            ],
            "image/png": "[encoded data removed]"
          },
          "metadata": {}
        },
        {
          "output_type": "stream",
          "name": "stdout",
          "text": [
            "The predicted class for the new image is: sad\n",
            "1/1 [==============================] - 0s 21ms/step\n"
          ]
        },
        {
          "output_type": "display_data",
          "data": {
            "text/plain": [
              "<Figure size 640x480 with 1 Axes>"
            ],
            "image/png": "[encoded data removed]"
          },
          "metadata": {}
        },
        {
          "output_type": "stream",
          "name": "stdout",
          "text": [
            "The predicted class for the new image is: happy\n",
            "1/1 [==============================] - 0s 31ms/step\n"
          ]
        },
        {
          "output_type": "display_data",
          "data": {
            "text/plain": [
              "<Figure size 640x480 with 1 Axes>"
            ],
            "image/png": "[encoded data removed]"
          },
          "metadata": {}
        },
        {
          "output_type": "stream",
          "name": "stdout",
          "text": [
            "The predicted class for the new image is: neutral\n",
            "1/1 [==============================] - 0s 23ms/step\n"
          ]
        },
        {
          "output_type": "display_data",
          "data": {
            "text/plain": [
              "<Figure size 640x480 with 1 Axes>"
            ],
            "image/png": "[encoded data removed]"
          },
          "metadata": {}
        },
        {
          "output_type": "stream",
          "name": "stdout",
          "text": [
            "The predicted class for the new image is: angry\n"
          ]
        }
      ]
    },
    {
      "cell_type": "code",
      "source": [
        "# File upload widget\n",
        "upload = FileUpload(accept='.png, .jpg, .jpeg', multiple=False)\n",
        "display(upload)\n",
        "\n",
        "def on_upload_change(change):\n",
        "    uploaded_file = list(upload.value.values())[0]\n",
        "    with open('uploaded_image.png', 'wb') as f:\n",
        "        f.write(uploaded_file['content'])\n",
        "    predicted_class = predict_image_class(cnn_model, 'uploaded_image.png', class_indices)\n",
        "    print(f'The predicted class for the new image is: {predicted_class}')\n",
        "\n",
        "upload.observe(on_upload_change, names='value')\n"
      ],
      "metadata": {
        "colab": {
          "base_uri": "https://localhost:8080/",
          "height": 946,
          "referenced_widgets": [
            "bc567f26398b4b309a40bbd1313d4691",
            "fba6a2108ca448a0b7f95837dc7a00ee",
            "d70b6d968994444bb1f2bbacdcfed312"
          ]
        },
        "id": "qEHTb-WrB2UU",
        "outputId": "10d8de0e-0796-4da2-df67-c86f86d669ef"
      },
      "execution_count": 43,
      "outputs": [
        {
          "output_type": "display_data",
          "data": {
            "text/plain": [
              "FileUpload(value={}, accept='.png, .jpg, .jpeg', description='Upload')"
            ],
            "application/vnd.jupyter.widget-view+json": {
              "version_major": 2,
              "version_minor": 0,
              "model_id": "bc567f26398b4b309a40bbd1313d4691"
            }
          },
          "metadata": {}
        },
        {
          "output_type": "stream",
          "name": "stdout",
          "text": [
            "1/1 [==============================] - 0s 41ms/step\n"
          ]
        },
        {
          "output_type": "display_data",
          "data": {
            "text/plain": [
              "<Figure size 640x480 with 1 Axes>"
            ],
            "image/png": "[encoded data removed]"
          },
          "metadata": {}
        },
        {
          "output_type": "stream",
          "name": "stdout",
          "text": [
            "The predicted class for the new image is: sad\n",
            "1/1 [==============================] - 0s 33ms/step\n"
          ]
        },
        {
          "output_type": "display_data",
          "data": {
            "text/plain": [
              "<Figure size 640x480 with 1 Axes>"
            ],
            "image/png": "[encoded data removed]"
          },
          "metadata": {}
        },
        {
          "output_type": "stream",
          "name": "stdout",
          "text": [
            "The predicted class for the new image is: sad\n"
          ]
        }
      ]
    }
  ]
}